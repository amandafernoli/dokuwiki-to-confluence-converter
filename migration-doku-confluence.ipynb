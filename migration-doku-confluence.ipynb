{
 "cells": [
  {
   "cell_type": "code",
   "execution_count": 2,
   "metadata": {},
   "outputs": [],
   "source": [
    "# This code takes a list of txt files extracted from dokuwiki, creates a folder called Confluence \n",
    "# generating new files with the same names as the old files converted to txt file with Confluence formatting.\n",
    "# Note: it has no treatment for images and links\n",
    "\n",
    "# Amanda Fernandes May 17, 2022\n",
    "\n",
    "import os\n",
    "\n",
    "# Make sure there are no files of other extensions in this folder besides txt\n",
    "# List all txt files in the indicated folder\n",
    "allFiles = os.listdir('D:/Projetos/DokuWiki/All wiki pages extracted/')"
   ]
  },
  {
   "cell_type": "code",
   "execution_count": 3,
   "metadata": {},
   "outputs": [
    {
     "name": "stdout",
     "output_type": "stream",
     "text": [
      "tutorial_backup.txt\n",
      "versionamento_produtos.txt\n",
      "virtualizacao.txt\n",
      "virtualservers.txt\n"
     ]
    }
   ],
   "source": [
    "oldFilePath = \"D:/Projetos/DokuWiki/All wiki pages extracted/\"\n",
    "\n",
    "path = os.path.join(\"D:/Projetos/DokuWiki/\", \"Confluence/\")\n",
    "os.mkdir(path)\n",
    "\n",
    "empty = ''\n",
    "for file in allFiles:\n",
    "\n",
    "  fileName = file\n",
    "  oldFile = open(oldFilePath + fileName, \"r\", encoding=\"UTF-8\")\n",
    "  rows = oldFile.readlines()\n",
    "  \n",
    "  newFile = open(path + fileName, \"w+\", encoding=\"UTF-8\")\n",
    "\n",
    "  print(fileName)\n",
    "\n",
    "  for row in rows:\n",
    "    # Título início h1\n",
    "    if(row.startswith(\"======\")):\n",
    "      row = row.replace(\"======\", \"h1.\", 1)\n",
    "      row = row.replace(\"======\", empty)\n",
    "\n",
    "    # Título início h2\n",
    "    if(row.startswith(\"=====\")):\n",
    "      row = row.replace(\"=====\", \"h2.\", 1)\n",
    "      row = row.replace(\"=====\", empty)\n",
    "\n",
    "    # Título início h3\n",
    "    if(row.startswith(\"====\")):\n",
    "      row = row.replace(\"====\", \"h3.\", 1)\n",
    "      row = row.replace(\"====\", empty)\n",
    "\n",
    "    # Título início h4\n",
    "    if(row.startswith(\"===\")):\n",
    "      row = row.replace(\"=== \", \"h4.\", 1)\n",
    "      row = row.replace(\" ===\", empty)\n",
    "\n",
    "    # Numeração\n",
    "    if(row.startswith(\"  - \")):\n",
    "      row = row.replace(\"- \", \"# \")\n",
    "\n",
    "    # Itálico\n",
    "    index = row.find(\"//\")\n",
    "    if(index >= 0 and (row.startswith(\"//\") or row[index-1] == \" \")):\n",
    "        row = row.replace(\"//\", \"_\")\n",
    "\n",
    "    # Negrito\n",
    "    row = row.replace(\"**\", \"*\")\n",
    "\n",
    "    # Cabeçalho tabela\n",
    "    row = row.replace(\"^\", \"||\")\n",
    "\n",
    "    # Links\n",
    "    row = row.replace(\"[[\", \"[\")\n",
    "    row = row.replace(\"]]\", \"]\")\n",
    "\n",
    "    # Codigo\n",
    "    row = row.replace(\"<code>\", \"{code}\")\n",
    "    row = row.replace(\"</code>\", \"{code}\")\n",
    "\n",
    "    # Botão fix me\n",
    "    row = row.replace(\"FIXME\", empty)\n",
    "\n",
    "    newFile.write(row)\n",
    "\n",
    "oldFile.close();\n",
    "newFile.close();\n"
   ]
  }
 ],
 "metadata": {
  "interpreter": {
   "hash": "917b5fc52f8e2bd56d50db792a587c8284bc62bb4cdf0199472c6c4a63710cf5"
  },
  "kernelspec": {
   "display_name": "Python 3.10.2 64-bit",
   "language": "python",
   "name": "python3"
  },
  "language_info": {
   "codemirror_mode": {
    "name": "ipython",
    "version": 3
   },
   "file_extension": ".py",
   "mimetype": "text/x-python",
   "name": "python",
   "nbconvert_exporter": "python",
   "pygments_lexer": "ipython3",
   "version": "3.10.2"
  },
  "orig_nbformat": 4
 },
 "nbformat": 4,
 "nbformat_minor": 2
}
